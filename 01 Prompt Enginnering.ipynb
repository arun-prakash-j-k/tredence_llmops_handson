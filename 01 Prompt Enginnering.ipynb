{
 "cells": [
  {
   "cell_type": "markdown",
   "id": "6b5fe12e-5486-4843-99fb-084cb76b397d",
   "metadata": {},
   "source": [
    "### Prompt Enginnering : Six Strategies for getting better results\n",
    "*https://platform.openai.com/docs/guides/prompt-engineering/six-strategies-for-getting-better-results*\n"
   ]
  }
 ],
 "metadata": {
  "kernelspec": {
   "display_name": "Python 3 (ipykernel)",
   "language": "python",
   "name": "python3"
  },
  "language_info": {
   "codemirror_mode": {
    "name": "ipython",
    "version": 3
   },
   "file_extension": ".py",
   "mimetype": "text/x-python",
   "name": "python",
   "nbconvert_exporter": "python",
   "pygments_lexer": "ipython3",
   "version": "3.12.4"
  }
 },
 "nbformat": 4,
 "nbformat_minor": 5
}
