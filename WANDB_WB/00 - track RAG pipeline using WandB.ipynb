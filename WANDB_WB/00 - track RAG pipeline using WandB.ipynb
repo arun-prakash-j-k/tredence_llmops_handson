{
 "cells": [
  {
   "cell_type": "markdown",
   "id": "1ca7d05d-57bf-4526-a317-f07ef334e321",
   "metadata": {},
   "source": [
    "ref following link for the handson video --> https://www.youtube.com/watch?v=8-exaASey6o"
   ]
  },
  {
   "cell_type": "code",
   "execution_count": 1,
   "id": "b31db786-28d3-468a-ab3d-981637fb8343",
   "metadata": {},
   "outputs": [],
   "source": [
    "# !pip install tiktoken\n",
    "# !pip install wandb\n",
    "# !pip install pypdf\n",
    "# ! pip install langchain\n",
    "# ! pip install -U langchain-community\n",
    "# ! pip install openai\n",
    "# ! pip install faiss-cpu\n",
    "# !pip install weave"
   ]
  },
  {
   "cell_type": "code",
   "execution_count": 3,
   "id": "44e3204f-30a2-4d0f-be73-d1de9acd6991",
   "metadata": {},
   "outputs": [],
   "source": [
    "import os\n",
    "os.environ[\"OPENAI_API_KEY\"] = OPENAI_API_KEY\n",
    "os.environ[\"LANGCHAIN_WANDB_TRACING\"] = \"true\""
   ]
  },
  {
   "cell_type": "code",
   "execution_count": 4,
   "id": "39c11688-6266-4aed-925d-8c53293df711",
   "metadata": {},
   "outputs": [],
   "source": [
    "from langchain.document_loaders import PyPDFLoader\n",
    "from langchain.text_splitter import RecursiveCharacterTextSplitter\n",
    "\n",
    "# Chunking\n",
    "loader = PyPDFLoader(\"CommonInsuranceTerms.pdf\")\n",
    "\n",
    "documents = loader.load()\n",
    "text_splitter = RecursiveCharacterTextSplitter(chunk_size=500,chunk_overlap=50)\n",
    "texts = text_splitter.split_documents(documents)"
   ]
  },
  {
   "cell_type": "code",
   "execution_count": null,
   "id": "2ba9791a-7844-46b1-9631-b56207a3b949",
   "metadata": {},
   "outputs": [],
   "source": [
    "texts[0]"
   ]
  },
  {
   "cell_type": "code",
   "execution_count": null,
   "id": "2cae2534-8aa7-4340-9de0-0638140afad7",
   "metadata": {},
   "outputs": [],
   "source": [
    "os.environ[\"OPENAI_API_KEY\"]"
   ]
  },
  {
   "cell_type": "code",
   "execution_count": null,
   "id": "4e92161a-8217-4f53-bc5d-92c83c499222",
   "metadata": {},
   "outputs": [],
   "source": [
    "from langchain.embeddings.openai import OpenAIEmbeddings\n",
    "from langchain.vectorstores.faiss import FAISS\n",
    "\n",
    "docsearch = FAISS.from_documents(texts, OpenAIEmbeddings())"
   ]
  },
  {
   "cell_type": "code",
   "execution_count": 8,
   "id": "130fae3a-95ec-4362-bd58-61d6b3db6735",
   "metadata": {},
   "outputs": [],
   "source": [
    "docsearch.save_local(\"/content\")"
   ]
  },
  {
   "cell_type": "code",
   "execution_count": null,
   "id": "ec783e97-1855-46c3-b4f6-f74c4a25833e",
   "metadata": {},
   "outputs": [],
   "source": [
    "from langchain.chains import RetrievalQA\n",
    "from langchain.llms import OpenAI\n",
    "\n",
    "qa_chain = RetrievalQA.from_chain_type(\n",
    "    llm=OpenAI(temperature=0.3),\n",
    "    chain_type=\"stuff\",\n",
    "    retriever=docsearch.as_retriever(),\n",
    ")   "
   ]
  },
  {
   "cell_type": "code",
   "execution_count": 10,
   "id": "b6e605a0-35a2-40e4-a906-f60db9b25a7a",
   "metadata": {},
   "outputs": [],
   "source": [
    "# from weave.integrations.langchain import weave_tracing_enabled\n",
    "# import weave\n",
    "# weave.init(\"langchain_rag_demo\")"
   ]
  },
  {
   "cell_type": "code",
   "execution_count": 11,
   "id": "761254a0-ed4d-428a-aeb2-d0df1910f156",
   "metadata": {},
   "outputs": [],
   "source": [
    "# with weave_tracing_enabled():\n",
    "#     out = qa_chain.run(\"What is Accident Cover?\") \n",
    "#     print(out)"
   ]
  },
  {
   "cell_type": "code",
   "execution_count": 14,
   "id": "52422146-0c5f-41ef-9908-1098af211fe3",
   "metadata": {},
   "outputs": [],
   "source": [
    "os.environ[\"WANDB_PROJECT\"] = \"langchain-tracing\"\n",
    "from langchain.callbacks import wandb_tracing_enabled"
   ]
  },
  {
   "cell_type": "code",
   "execution_count": null,
   "id": "3a213a25-7101-41b5-b904-8757cb74b8c4",
   "metadata": {},
   "outputs": [],
   "source": [
    "with wandb_tracing_enabled():\n",
    "    qa_chain.run(\"Tell me about Housekeeping\")"
   ]
  },
  {
   "cell_type": "code",
   "execution_count": null,
   "id": "b04b93d3-2112-43cd-8f82-3f2e2685b008",
   "metadata": {},
   "outputs": [],
   "source": [
    "print(qa_chain.run(\"Tell me about Housekeeping\"))"
   ]
  }
 ],
 "metadata": {
  "kernelspec": {
   "display_name": "base",
   "language": "python",
   "name": "python3"
  },
  "language_info": {
   "codemirror_mode": {
    "name": "ipython",
    "version": 3
   },
   "file_extension": ".py",
   "mimetype": "text/x-python",
   "name": "python",
   "nbconvert_exporter": "python",
   "pygments_lexer": "ipython3",
   "version": "3.12.4"
  }
 },
 "nbformat": 4,
 "nbformat_minor": 5
}
