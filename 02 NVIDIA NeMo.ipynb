{
 "cells": [
  {
   "cell_type": "markdown",
   "metadata": {},
   "source": [
    "### Introduction: <span style=\"font-size:70%\">[Introduction to NVIDIA NeMo - A Toolkit for Conversational AI | AISC](https://www.youtube.com/watch?v=2kTZ0oST8wg)</span>\n",
    "\n",
    "* Automatic Speech Recognition\n",
    "* Natural Language Processing - Understanding Tasks | Named Entity  Recognition  | Question Answering | Dialog Management | Machine Translation |\n",
    "* Text to Speech\n",
    "\n",
    "Available Frameworks: \n",
    "* TLT (transfer learning toolkit) - 0-code tool for training supported conversational AI models\n",
    "* NeMo (applied research toolkit) - researching, developing and training conversational AI models (open source)\n",
    "* Jarvis - sclable solution for serving conversational AI models\n",
    "\n",
    "NeMo: github.com/NVIDIA/NeMo\n",
    "* build on top of pytorch, lightning, hydra + acceleration through cuda-x\n",
    "* Neural Modules:\n",
    "    * Data Preprocessing\n",
    "    * Encoder Module\n",
    "    * Decoder Module\n",
    "    * Loss Function\n",
    "    * Pretrained Model\n",
    "* Configurations:\n",
    "    * single stop solution for editing the end to end neural network\n",
    "    * both YAML and hydra cli is available\n",
    "* automated mixed precision & distributed learning - using pytorch lighting trainer\n",
    "* training at scale - multi gpu scaling \n",
    "* ASR (automated speech recognition) fine tuning\n",
    "    * retraining a model with domain specific data\n",
    "    * audio wav file >> feature extraction >> acoustic model (+ fine tuning) >> decoder (language model) >> text\n",
    "* data augumentation:\n",
    "    * speed perturbation\n",
    "    * time stretch perturbation\n",
    "    * noise perturbation\n",
    "    * impulse perturbation\n",
    "    * time stretch augumentation\n",
    "* NVIDIA NCG - Nvidia GPU Cloud\n",
    "* Deployment Options:\n",
    "    * pre-built docker containers can be used to deploy in cloud from NGC\n",
    "    * or pull from git to the cloud\n",
    "* cuda core - gpu to perform generic operations\n",
    "* tensor core - specialized cuda code to perform matrix operations\n",
    "* Matchbox net - E2E neural network for speech command recognition (can classify an input audio pattern into discrete set of classes)\n",
    "* Speaker net - speaker recognition - identify & verify speaker\n",
    "* VAD (Voice Activity Detection) - seperate out speech from the background noise\n",
    "* talknet - net tts model - predict duration of each grapheme | generate mel-spectograms\n",
    "* "
   ]
  }
 ],
 "metadata": {
  "language_info": {
   "name": "python"
  }
 },
 "nbformat": 4,
 "nbformat_minor": 2
}
